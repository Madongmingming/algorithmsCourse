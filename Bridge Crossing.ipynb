{
 "cells": [
  {
   "cell_type": "markdown",
   "metadata": {},
   "source": [
    "# Bridge Crossing"
   ]
  },
  {
   "cell_type": "markdown",
   "metadata": {},
   "source": [
    "## Problem Statement\n",
    "\n",
    "A group of four travelers comes to a bridge at night. The bridge can hold the weight of at most only two of the travelers at a time, and it can- not be crossed without using a flashlight. \n",
    "\n",
    "The travelers have one flashlight among them. Each traveler walks at a different speed: The first can cross the bridge in 1 minute, the second in 2 minutes, the third in 5 minutes, and the fourth takes 10 minutes to cross the bridge. If two travelers cross together, they walk at the speed of the slower traveler.\n",
    "\n",
    "What is the least amount of time in which all the travelers can cross from one side of the bridge to the other?\n",
    "\n"
   ]
  },
  {
   "cell_type": "markdown",
   "metadata": {},
   "source": [
    "### My initial attempt\n",
    "\n",
    "You could run the fastest traveler back and forth with the flashlight since he will return fastest with the flashlight.  The time taken is the sum of the 3 slower travelers (2, 5, 10) plus the number of trips back the fastest makes (2) for 19 minutes."
   ]
  },
  {
   "cell_type": "markdown",
   "metadata": {},
   "source": [
    "## Version from the live code\n",
    "\n",
    "Trick is that 5 and 10 cross together after 1 and 2 cross.  2 brings the torch with, I fell for the trick where 1 is the guide for everyone.  This updated. approach saves 2 minutes.\n",
    "\n",
    "\n",
    "1 and 2 cross together (2 minutes)\n",
    "1 brings the torch back (1 minute)\n",
    "5 and 10 cross together (10 minutes)\n",
    "2 brings torch back (2 minutes)\n",
    "1 and 2 cross \n"
   ]
  }
 ],
 "metadata": {
  "kernelspec": {
   "display_name": "Python 2 (SageMath)",
   "language": "python",
   "name": "python2"
  },
  "language_info": {
   "codemirror_mode": {
    "name": "ipython",
    "version": 2
   },
   "file_extension": ".py",
   "mimetype": "text/x-python",
   "name": "python",
   "nbconvert_exporter": "python",
   "pygments_lexer": "ipython2",
   "version": "2.7.10"
  }
 },
 "nbformat": 4,
 "nbformat_minor": 0
}
