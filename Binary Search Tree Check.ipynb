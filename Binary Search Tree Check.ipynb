{
 "cells": [
  {
   "cell_type": "markdown",
   "metadata": {},
   "source": [
    "# Binary Search Tree Check \n",
    "\n",
    "## Problem Statement\n",
    "\n",
    "Given a binary tree, check whether it’s a binary search tree or not.\n",
    "\n",
    "** Again, no solution cell, just worry about your code making sense logically. Hint: Think about tree traversals. **\n",
    "\n",
    "## Solution\n",
    "\n",
    "Fill out your solution below:"
   ]
  },
  {
   "cell_type": "code",
   "execution_count": 2,
   "metadata": {
    "collapsed": false
   },
   "outputs": [],
   "source": [
    "# From live code - I had gotten tripped up on looking at the tree traversal algorithms due to an error in my traversal functions.  \n",
    "#Once the functions were coded properly, this made a lot of sense.\n",
    "\n",
    "tree_vals = []\n",
    "\n",
    "def inorder(tree):\n",
    "    if tree != None:\n",
    "        inorder(tree.getLeftChild())\n",
    "        tree_vals.append(tree.getRootVal())\n",
    "        inorder(tree.getRightChild())\n",
    "        \n",
    "        \n",
    "def sort_check(tree_vals):\n",
    "    return tree_vals == sorted(tree_vals)\n"
   ]
  },
  {
   "cell_type": "code",
   "execution_count": null,
   "metadata": {
    "collapsed": true
   },
   "outputs": [],
   "source": [
    "#RECURSIVE VERSION from video\n",
    "\n",
    "def tree_max(tree):\n",
    "    if not node:\n",
    "        return float('-inf')\n",
    "    max_left = tree_max(node.left)\n",
    "    max_right = tree_max(node.right)\n",
    "    return max(node.key, max_left, max_right)\n",
    "\n",
    "def tree_min(tree):\n",
    "    if not node:\n",
    "        return float('-inf')\n",
    "    min_left = tree_min(node.left)\n",
    "    min_right = tree_min(node.right)\n",
    "    return min(node.key, max_left, max_right)\n",
    "\n",
    "def verify_tree(tree):\n",
    "    if not node:\n",
    "        return True\n",
    "    if tree_max(node.left) <= node.key <= tree_min(node.right)and \n",
    "    verify(node.left) and verify(node.right):\n",
    "        return True\n",
    "    else:\n",
    "        return False\n",
    "        "
   ]
  },
  {
   "cell_type": "markdown",
   "metadata": {},
   "source": [
    "This is a classic interview problem, so feel free to just Google search \"Validate BST\" for more information on this problem!"
   ]
  }
 ],
 "metadata": {
  "kernelspec": {
   "display_name": "Python 2 (SageMath)",
   "language": "python",
   "name": "python2"
  },
  "language_info": {
   "codemirror_mode": {
    "name": "ipython",
    "version": 2
   },
   "file_extension": ".py",
   "mimetype": "text/x-python",
   "name": "python",
   "nbconvert_exporter": "python",
   "pygments_lexer": "ipython2",
   "version": "2.7.10"
  }
 },
 "nbformat": 4,
 "nbformat_minor": 0
}
