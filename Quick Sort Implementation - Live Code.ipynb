{
 "cells": [
  {
   "cell_type": "code",
   "execution_count": 1,
   "metadata": {
    "collapsed": false
   },
   "outputs": [],
   "source": [
    "def quick_sort(arr):\n",
    "    quick_sort_help(arr,0,len(arr)-1)\n",
    "\n",
    "def quick_sort_help(arr, first, last):\n",
    "    if first < last:\n",
    "        splitpoint = partition(arr, first, last)\n",
    "        quick_sort_help(arr, first, splitpoint-1)\n",
    "        quick_sort_help(arr, splitpoint+1, last)\n",
    "\n",
    "def partition(arr, first, last):\n",
    "    \n",
    "    pivotvalue = arr[first]\n",
    "    \n",
    "    leftmark = first + 1\n",
    "    rightmark = last\n",
    "    \n",
    "    done = False\n",
    "    \n",
    "    while not done:\n",
    "        while leftmark <= rightmark and arr[leftmark] <= pivotvalue:\n",
    "            leftmark += 1\n",
    "            \n",
    "        while arr[rightmark] >= pivotvalue and rightmark >= leftmark:\n",
    "            rightmark -= 1\n",
    "            \n",
    "        if rightmark < leftmark:\n",
    "            done = True\n",
    "            \n",
    "        else:\n",
    "            temp = arr[leftmark]\n",
    "            arr[leftmark] = arr[rightmark]\n",
    "            arr[rightmark] = temp\n",
    "            \n",
    "    temp = arr[first]\n",
    "    arr[first] = arr[rightmark]\n",
    "    arr[rightmark] = temp\n",
    "    \n",
    "    return rightmark\n",
    "\n"
   ]
  },
  {
   "cell_type": "code",
   "execution_count": 2,
   "metadata": {
    "collapsed": false
   },
   "outputs": [
    {
     "data": {
      "text/plain": [
       "[0, 1, 2, 3, 5, 9]"
      ]
     },
     "execution_count": 2,
     "metadata": {},
     "output_type": "execute_result"
    }
   ],
   "source": [
    "arr = [2,5,9,1,3,0]\n",
    "quick_sort(arr)\n",
    "arr"
   ]
  },
  {
   "cell_type": "code",
   "execution_count": null,
   "metadata": {
    "collapsed": true
   },
   "outputs": [],
   "source": []
  }
 ],
 "metadata": {
  "kernelspec": {
   "display_name": "Python 2 (SageMath)",
   "language": "python",
   "name": "python2"
  },
  "language_info": {
   "codemirror_mode": {
    "name": "ipython",
    "version": 2
   },
   "file_extension": ".py",
   "mimetype": "text/x-python",
   "name": "python",
   "nbconvert_exporter": "python",
   "pygments_lexer": "ipython2",
   "version": "2.7.10"
  }
 },
 "nbformat": 4,
 "nbformat_minor": 0
}
