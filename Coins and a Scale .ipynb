{
 "cells": [
  {
   "cell_type": "markdown",
   "metadata": {},
   "source": [
    "# Coins and a Scale \n",
    "## Problem Statement\n",
    "\n",
    "You have eight coins and a two-pan scale. All the coins weigh the same, **except for one** which is heavier than all the others. The coins are otherwise indistinguishable. You may make no assumptions about how much heavier the heavy coin is. What is the minimum number of weighings needed to be certain of identifying the heavy coin?"
   ]
  },
  {
   "cell_type": "markdown",
   "metadata": {},
   "source": [
    "### My initial attempt\n",
    "\n",
    "Four but I feel like this is a trick.  Maybe it is 1 is the minimum since it could be first two you compare and 4 is the max number needed. But fo"
   ]
  },
  {
   "cell_type": "markdown",
   "metadata": {},
   "source": [
    "### Paraphrase from the solution video\n",
    "\n",
    "Don't be fooled by thinking you can only compare one coin at a time or that you can only have two groups of coins.\n",
    "\n",
    "You create three groups of coins numbering three, three, and two.  Compare the two groups of three coins against each other. \n",
    "\n",
    "If they are equal, then the heavy coin is in the group of two and you compare them to each other.  Total of two weighings.\n",
    "\n",
    "If one of the groups is heavier, you break up the heavier group of three and compare two of the coins.  If they are equal then the third coin from the group is heavier.  Otherwise, the comparison of the two solves it.\n",
    "\n",
    "Under all of the scenarios, you only need to have two weighings."
   ]
  },
  {
   "cell_type": "code",
   "execution_count": null,
   "metadata": {
    "collapsed": true
   },
   "outputs": [],
   "source": []
  }
 ],
 "metadata": {
  "kernelspec": {
   "display_name": "Python 2 (SageMath)",
   "language": "python",
   "name": "python2"
  },
  "language_info": {
   "codemirror_mode": {
    "name": "ipython",
    "version": 2
   },
   "file_extension": ".py",
   "mimetype": "text/x-python",
   "name": "python",
   "nbconvert_exporter": "python",
   "pygments_lexer": "ipython2",
   "version": "2.7.10"
  }
 },
 "nbformat": 4,
 "nbformat_minor": 0
}
