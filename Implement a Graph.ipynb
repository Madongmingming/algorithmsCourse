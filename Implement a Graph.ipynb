{
 "cells": [
  {
   "cell_type": "markdown",
   "metadata": {},
   "source": [
    "# Implement a Graph Class!\n",
    "\n",
    "That's it! \n",
    "\n",
    "Best of luck and reference the video lecture for any questions!\n",
    "\n",
    "You have to fully worked out implementations in the lectures, so make sure to refer to them!"
   ]
  },
  {
   "cell_type": "markdown",
   "metadata": {},
   "source": [
    "# Good Luck!"
   ]
  },
  {
   "cell_type": "code",
   "execution_count": 2,
   "metadata": {
    "collapsed": false
   },
   "outputs": [],
   "source": [
    "from enum import Enum\n",
    "from collections import OrderedDict"
   ]
  },
  {
   "cell_type": "code",
   "execution_count": 3,
   "metadata": {
    "collapsed": true
   },
   "outputs": [],
   "source": [
    "class State(Enum):\n",
    "    unvisited = 1\n",
    "    visiting = 2\n",
    "    visited = 3"
   ]
  },
  {
   "cell_type": "code",
   "execution_count": 6,
   "metadata": {
    "collapsed": true
   },
   "outputs": [],
   "source": [
    "class Vertex:\n",
    "    def __init__(self, num):\n",
    "        self.num = num\n",
    "        self.adjacent = OrderedDict()\n",
    "        #visited state\n",
    "        self.visitState = State.unvisited\n",
    "        \n",
    "    def __str__():\n",
    "        return str(num)"
   ]
  },
  {
   "cell_type": "code",
   "execution_count": 10,
   "metadata": {
    "collapsed": true
   },
   "outputs": [],
   "source": [
    "class Graph:\n",
    "    # just takes self\n",
    "    #use Vertex to add vertices\n",
    "    #add vertex\n",
    "    #add edge\n",
    "    #has nodes\n",
    "    \n",
    "    def __init__(self):\n",
    "        self.nodes = OrderedDict()\n",
    "        \n",
    "    def addNode(self, num):\n",
    "        node = Vertex(num)\n",
    "        self.nodes[num] = node\n",
    "        return node\n",
    "    \n",
    "    def addEdge(self, f, t, weight = 0):\n",
    "        \n",
    "        if f not in self.nodes:\n",
    "            self.addNode(f)\n",
    "        if t not in self.nodes:\n",
    "            self.addNode(t)\n",
    "        \n",
    "        self.nodes[f].adjacent[self.nodes[t]] = weight\n",
    "        \n",
    "        \n",
    "        \n",
    "        "
   ]
  },
  {
   "cell_type": "code",
   "execution_count": 11,
   "metadata": {
    "collapsed": true
   },
   "outputs": [],
   "source": [
    "g = Graph()"
   ]
  },
  {
   "cell_type": "code",
   "execution_count": 12,
   "metadata": {
    "collapsed": false
   },
   "outputs": [
    {
     "data": {
      "text/plain": [
       "<__main__.Graph instance at 0x7fd43fc4fa70>"
      ]
     },
     "execution_count": 12,
     "metadata": {},
     "output_type": "execute_result"
    }
   ],
   "source": [
    "g.addEdge(1,2,5)\n",
    "g"
   ]
  },
  {
   "cell_type": "code",
   "execution_count": null,
   "metadata": {
    "collapsed": true
   },
   "outputs": [],
   "source": []
  }
 ],
 "metadata": {
  "kernelspec": {
   "display_name": "Python 2 (SageMath)",
   "language": "python",
   "name": "python2"
  },
  "language_info": {
   "codemirror_mode": {
    "name": "ipython",
    "version": 2
   },
   "file_extension": ".py",
   "mimetype": "text/x-python",
   "name": "python",
   "nbconvert_exporter": "python",
   "pygments_lexer": "ipython2",
   "version": "2.7.10"
  }
 },
 "nbformat": 4,
 "nbformat_minor": 0
}
